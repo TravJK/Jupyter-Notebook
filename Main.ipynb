{
 "cells": [
  {
   "cell_type": "markdown",
   "id": "365b2432",
   "metadata": {},
   "source": [
    "# Customer spending data: An analysis of annual income, age, profession and family size, and how it relates to spending score (1-100)\n",
    "\n",
    "\n",
    "\n",
    "<a href=\"Vis.html\" target=\"_self\">Customer gender</a>&nbsp; &nbsp; &nbsp;\n",
    "<a href=\"Vis.html\" target=\"_self\">Customer age </a>&nbsp; &nbsp; &nbsp; <a href=\"Vis.html\" target=\"_self\">Profession</a>&nbsp; &nbsp; &nbsp;<a href=\"Vis.html\" target=\"_self\">Annual Income by Profession</a>&nbsp; &nbsp; &nbsp;\n",
    "<a href=\"Vis.html\" target=\"_self\">An overview of customer data</a>&nbsp; &nbsp; &nbsp;<a href=\"Vis.html\" target=\"_self\">Spending Score by Profession</a>&nbsp; &nbsp; &nbsp;<a href=\"Vis.html\" target=\"_self\">Customer family size</a>&nbsp; &nbsp; &nbsp;\n",
    "\n",
    "\n",
    "# Introduction\n",
    "\n",
    "## To explore and analyze customer spending behavior based on gender, annual income, profession, family size and spending score (1-100).\n",
    "\n",
    "## This data was collected by a shop over the course of a year to help identify their customer base and gain insights into spending habits. \n",
    "\n",
    "## With these insights into customer behavior across different demographics, the business can optimize their strategey to continue to drive business from their most valued customers, and produce new marketing initiatives for their most loyal customers, and to enable them to target new customers. \n",
    "\n",
    "\n"
   ]
  },
  {
   "cell_type": "code",
   "execution_count": 1,
   "id": "d842e96b",
   "metadata": {},
   "outputs": [],
   "source": [
    "from IPython.core.display import HTML\n",
    "HTML(\"<script src='https://cdn.plot.ly/plotly-latest.min.js'></script>\")\n",
    "import pandas as pd\n",
    "import matplotlib.pyplot as plt\n",
    "import plotly.io as pio\n",
    "import seaborn as sns\n",
    "import plotly.express as px\n",
    "pio.renderers.default = \"notebook\"\n",
    "import plotly.graph_objects as go\n",
    "\n",
    "pio.renderers.default = \"notebook_connected\"\n",
    "\n",
    "from IPython.core.display import HTML\n",
    "HTML(\"<script src='https://cdn.plot.ly/plotly-latest.min.js'></script>\")\n",
    "import pandas as pd\n",
    "import matplotlib.pyplot as plt\n",
    "import plotly.io as pio\n",
    "import seaborn as sns\n",
    "import plotly.express as px\n",
    "import plotly.io as pio\n",
    "pio.renderers.default = \"notebook\"\n",
    "pio.renderers.default = \"notebook_connected\"\n",
    "#from dash import Dash, dcc, html\n",
    "import plotly.express as px\n",
    "from base64 import b64encode\n",
    "import io\n",
    "import plotly.graph_objects as go\n",
    "#import dash\n",
    "#import dash_core_components as dcc\n",
    "#import dash_html_components as html\n"
   ]
  },
  {
   "cell_type": "code",
   "execution_count": 2,
   "id": "6555b12a",
   "metadata": {},
   "outputs": [],
   "source": [
    "#df.info()"
   ]
  }
 ],
 "metadata": {
  "kernelspec": {
   "display_name": "Python 3 (ipykernel)",
   "language": "python",
   "name": "python3"
  },
  "language_info": {
   "codemirror_mode": {
    "name": "ipython",
    "version": 3
   },
   "file_extension": ".py",
   "mimetype": "text/x-python",
   "name": "python",
   "nbconvert_exporter": "python",
   "pygments_lexer": "ipython3",
   "version": "3.9.13"
  }
 },
 "nbformat": 4,
 "nbformat_minor": 5
}
